{
 "cells": [
  {
   "cell_type": "markdown",
   "metadata": {},
   "source": [
    "# Machine Learning Engineer Nanodegree\n",
    "## Unsupervised Learning\n",
    "## Project 3: Creating Customer Segments"
   ]
  },
  {
   "cell_type": "markdown",
   "metadata": {},
   "source": [
    "## Getting Started\n",
    "\n",
    "In this project, you will analyze a dataset containing data on various customers' annual spending amounts (reported in *monetary units*) of diverse product categories for internal structure. One goal of this project is to best describe the variation in the different types of customers that a wholesale distributor interacts with. Doing so would equip the distributor with insight into how to best structure their delivery service to meet the needs of each customer.\n",
    "\n",
    "The dataset for this project can be found on the [UCI Machine Learning Repository](https://archive.ics.uci.edu/ml/datasets/Wholesale+customers). For the purposes of this project, the features `'Channel'` and `'Region'` will be excluded in the analysis — with focus instead on the six product categories recorded for customers.\n",
    "\n",
    "Run the code block below to load the wholesale customers dataset, along with a few of the necessary Python libraries required for this project. You will know the dataset loaded successfully if the size of the dataset is reported."
   ]
  },
  {
   "cell_type": "code",
   "execution_count": 1,
   "metadata": {
    "collapsed": false
   },
   "outputs": [
    {
     "name": "stdout",
     "output_type": "stream",
     "text": [
      "Populating the interactive namespace from numpy and matplotlib\n"
     ]
    }
   ],
   "source": [
    "%pylab inline"
   ]
  },
  {
   "cell_type": "code",
   "execution_count": 11,
   "metadata": {
    "collapsed": false
   },
   "outputs": [
    {
     "name": "stdout",
     "output_type": "stream",
     "text": [
      "Wholesale customers dataset has 440 samples with 6 features each.\n"
     ]
    }
   ],
   "source": [
    "# Import libraries necessary for this project\n",
    "import numpy as np\n",
    "import pandas as pd\n",
    "import renders as rs\n",
    "from IPython.display import display # Allows the use of display() for DataFrames\n",
    "import matplotlib.pyplot as plt\n",
    "import seaborn as sns\n",
    "\n",
    "# Load the wholesale customers dataset\n",
    "try:\n",
    "    data = pd.read_csv(\"customers.csv\")\n",
    "    data.drop(['Region', 'Channel'], axis = 1, inplace = True)\n",
    "    print \"Wholesale customers dataset has {} samples with {} features each.\".format(*data.shape)\n",
    "except:\n",
    "    print \"Dataset could not be loaded. Is the dataset missing?\""
   ]
  },
  {
   "cell_type": "markdown",
   "metadata": {},
   "source": [
    "## Data Exploration\n",
    "In this section, you will begin exploring the data through visualizations and code to understand how each feature is related to the others. You will observe a statistical description of the dataset, consider the relevance of each feature, and select a few sample data points from the dataset which you will track through the course of this project.\n",
    "\n",
    "Run the code block below to observe a statistical description of the dataset. Note that the dataset is composed of six important product categories: **'Fresh'**, **'Milk'**, **'Grocery'**, **'Frozen'**, **'Detergents_Paper'**, and **'Delicatessen'**. Consider what each category represents in terms of products you could purchase."
   ]
  },
  {
   "cell_type": "code",
   "execution_count": 3,
   "metadata": {
    "collapsed": false
   },
   "outputs": [
    {
     "data": {
      "text/html": [
       "<div>\n",
       "<table border=\"1\" class=\"dataframe\">\n",
       "  <thead>\n",
       "    <tr style=\"text-align: right;\">\n",
       "      <th></th>\n",
       "      <th>Fresh</th>\n",
       "      <th>Milk</th>\n",
       "      <th>Grocery</th>\n",
       "      <th>Frozen</th>\n",
       "      <th>Detergents_Paper</th>\n",
       "      <th>Delicatessen</th>\n",
       "    </tr>\n",
       "  </thead>\n",
       "  <tbody>\n",
       "    <tr>\n",
       "      <th>count</th>\n",
       "      <td>440.000000</td>\n",
       "      <td>440.000000</td>\n",
       "      <td>440.000000</td>\n",
       "      <td>440.000000</td>\n",
       "      <td>440.000000</td>\n",
       "      <td>440.000000</td>\n",
       "    </tr>\n",
       "    <tr>\n",
       "      <th>mean</th>\n",
       "      <td>12000.297727</td>\n",
       "      <td>5796.265909</td>\n",
       "      <td>7951.277273</td>\n",
       "      <td>3071.931818</td>\n",
       "      <td>2881.493182</td>\n",
       "      <td>1524.870455</td>\n",
       "    </tr>\n",
       "    <tr>\n",
       "      <th>std</th>\n",
       "      <td>12647.328865</td>\n",
       "      <td>7380.377175</td>\n",
       "      <td>9503.162829</td>\n",
       "      <td>4854.673333</td>\n",
       "      <td>4767.854448</td>\n",
       "      <td>2820.105937</td>\n",
       "    </tr>\n",
       "    <tr>\n",
       "      <th>min</th>\n",
       "      <td>3.000000</td>\n",
       "      <td>55.000000</td>\n",
       "      <td>3.000000</td>\n",
       "      <td>25.000000</td>\n",
       "      <td>3.000000</td>\n",
       "      <td>3.000000</td>\n",
       "    </tr>\n",
       "    <tr>\n",
       "      <th>25%</th>\n",
       "      <td>3127.750000</td>\n",
       "      <td>1533.000000</td>\n",
       "      <td>2153.000000</td>\n",
       "      <td>742.250000</td>\n",
       "      <td>256.750000</td>\n",
       "      <td>408.250000</td>\n",
       "    </tr>\n",
       "    <tr>\n",
       "      <th>50%</th>\n",
       "      <td>8504.000000</td>\n",
       "      <td>3627.000000</td>\n",
       "      <td>4755.500000</td>\n",
       "      <td>1526.000000</td>\n",
       "      <td>816.500000</td>\n",
       "      <td>965.500000</td>\n",
       "    </tr>\n",
       "    <tr>\n",
       "      <th>75%</th>\n",
       "      <td>16933.750000</td>\n",
       "      <td>7190.250000</td>\n",
       "      <td>10655.750000</td>\n",
       "      <td>3554.250000</td>\n",
       "      <td>3922.000000</td>\n",
       "      <td>1820.250000</td>\n",
       "    </tr>\n",
       "    <tr>\n",
       "      <th>max</th>\n",
       "      <td>112151.000000</td>\n",
       "      <td>73498.000000</td>\n",
       "      <td>92780.000000</td>\n",
       "      <td>60869.000000</td>\n",
       "      <td>40827.000000</td>\n",
       "      <td>47943.000000</td>\n",
       "    </tr>\n",
       "  </tbody>\n",
       "</table>\n",
       "</div>"
      ],
      "text/plain": [
       "               Fresh          Milk       Grocery        Frozen  \\\n",
       "count     440.000000    440.000000    440.000000    440.000000   \n",
       "mean    12000.297727   5796.265909   7951.277273   3071.931818   \n",
       "std     12647.328865   7380.377175   9503.162829   4854.673333   \n",
       "min         3.000000     55.000000      3.000000     25.000000   \n",
       "25%      3127.750000   1533.000000   2153.000000    742.250000   \n",
       "50%      8504.000000   3627.000000   4755.500000   1526.000000   \n",
       "75%     16933.750000   7190.250000  10655.750000   3554.250000   \n",
       "max    112151.000000  73498.000000  92780.000000  60869.000000   \n",
       "\n",
       "       Detergents_Paper  Delicatessen  \n",
       "count        440.000000    440.000000  \n",
       "mean        2881.493182   1524.870455  \n",
       "std         4767.854448   2820.105937  \n",
       "min            3.000000      3.000000  \n",
       "25%          256.750000    408.250000  \n",
       "50%          816.500000    965.500000  \n",
       "75%         3922.000000   1820.250000  \n",
       "max        40827.000000  47943.000000  "
      ]
     },
     "metadata": {},
     "output_type": "display_data"
    }
   ],
   "source": [
    "# Display a description of the dataset\n",
    "display(data.describe())"
   ]
  },
  {
   "cell_type": "markdown",
   "metadata": {},
   "source": [
    "### Implementation: Selecting Samples\n",
    "To get a better understanding of the customers and how their data will transform through the analysis, it would be best to select a few sample data points and explore them in more detail. In the code block below, add **three** indices of your choice to the `indices` list which will represent the customers to track. It is suggested to try different sets of samples until you obtain customers that vary significantly from one another."
   ]
  },
  {
   "cell_type": "code",
   "execution_count": 4,
   "metadata": {
    "collapsed": false
   },
   "outputs": [
    {
     "name": "stdout",
     "output_type": "stream",
     "text": [
      "Chosen samples of wholesale customers dataset:\n"
     ]
    },
    {
     "data": {
      "text/html": [
       "<div>\n",
       "<table border=\"1\" class=\"dataframe\">\n",
       "  <thead>\n",
       "    <tr style=\"text-align: right;\">\n",
       "      <th></th>\n",
       "      <th>Fresh</th>\n",
       "      <th>Milk</th>\n",
       "      <th>Grocery</th>\n",
       "      <th>Frozen</th>\n",
       "      <th>Detergents_Paper</th>\n",
       "      <th>Delicatessen</th>\n",
       "    </tr>\n",
       "  </thead>\n",
       "  <tbody>\n",
       "    <tr>\n",
       "      <th>_Sample 0</th>\n",
       "      <td>12669</td>\n",
       "      <td>9656</td>\n",
       "      <td>7561</td>\n",
       "      <td>214</td>\n",
       "      <td>2674</td>\n",
       "      <td>1338</td>\n",
       "    </tr>\n",
       "    <tr>\n",
       "      <th>_Sample 1</th>\n",
       "      <td>3067</td>\n",
       "      <td>13240</td>\n",
       "      <td>23127</td>\n",
       "      <td>3941</td>\n",
       "      <td>9959</td>\n",
       "      <td>731</td>\n",
       "    </tr>\n",
       "    <tr>\n",
       "      <th>_Sample 2</th>\n",
       "      <td>32717</td>\n",
       "      <td>16784</td>\n",
       "      <td>13626</td>\n",
       "      <td>60869</td>\n",
       "      <td>1272</td>\n",
       "      <td>5609</td>\n",
       "    </tr>\n",
       "  </tbody>\n",
       "</table>\n",
       "</div>"
      ],
      "text/plain": [
       "           Fresh   Milk  Grocery  Frozen  Detergents_Paper  Delicatessen\n",
       "_Sample 0  12669   9656     7561     214              2674          1338\n",
       "_Sample 1   3067  13240    23127    3941              9959           731\n",
       "_Sample 2  32717  16784    13626   60869              1272          5609"
      ]
     },
     "metadata": {},
     "output_type": "display_data"
    }
   ],
   "source": [
    "# TODO: Select three indices of your choice you wish to sample from the dataset\n",
    "indices = [0, 200, 325] \n",
    "\n",
    "# Create a DataFrame of the chosen samples\n",
    "samples = pd.DataFrame(data.loc[indices], columns = data.keys()).reset_index(drop = True)\n",
    "samples_index = ['_Sample {}'.format(i) for i in range(0,len(samples))]\n",
    "samples.index = samples_index \n",
    "print \"Chosen samples of wholesale customers dataset:\"\n",
    "display(samples)"
   ]
  },
  {
   "cell_type": "code",
   "execution_count": 5,
   "metadata": {
    "collapsed": false
   },
   "outputs": [
    {
     "name": "stdout",
     "output_type": "stream",
     "text": [
      "     Fresh  Milk  Grocery  Frozen  Detergents_Paper  Delicatessen\n",
      "0     66.4  83.9     65.0     7.5              68.2          63.0\n",
      "200   24.3  91.8     94.5    77.7              94.1          41.4\n",
      "325   94.1  95.0     83.4   100.0              58.2          97.3\n"
     ]
    },
    {
     "data": {
      "image/png": "[encoded data removed]",
      "text/plain": [
       "<matplotlib.figure.Figure at 0x114948cd0>"
      ]
     },
     "metadata": {},
     "output_type": "display_data"
    },
    {
     "data": {
      "image/png": "[encoded data removed]",
      "text/plain": [
       "<matplotlib.figure.Figure at 0x114bbe3d0>"
      ]
     },
     "metadata": {},
     "output_type": "display_data"
    },
    {
     "data": {
      "image/png": "[encoded data removed]",
      "text/plain": [
       "<matplotlib.figure.Figure at 0x114bbe050>"
      ]
     },
     "metadata": {},
     "output_type": "display_data"
    }
   ],
   "source": [
    "# look at percentile ranks\n",
    "pcts = 100. * data.rank(axis=0, pct=True).iloc[indices].round(decimals=3)\n",
    "print pcts\n",
    "\n",
    "# visualize percentiles with heatmap\n",
    "sns.heatmap(pcts, yticklabels=['Index '+str(x) for x in indices], annot=True, vmin=1, vmax=99, fmt='.1f', cmap='YlGnBu')\n",
    "plt.title('Percentile ranks of\\nsamples\\' category spending')\n",
    "plt.xticks(rotation=70, ha='center');\n",
    "plt.show();\n",
    "\n",
    "((samples-data.median()) / data.median()).plot.bar(figsize=(10,4), title='Samples compared to MEDIAN')\n",
    "((samples-data.mean()) / data.mean()).plot.bar(figsize=(10,4), title='Samples compared to MEAN');"
   ]
  },
  {
   "cell_type": "markdown",
   "metadata": {},
   "source": [
    "### Question 1\n",
    "Consider the total purchase cost of each product category and the statistical description of the dataset above for your sample customers.  \n",
    "*What kind of establishment (customer) could each of the three samples you've chosen represent?*  \n",
    "**Hint:** Examples of establishments include places like markets, cafes, and retailers, among many others. Avoid using names for establishments, such as saying *\"McDonalds\"* when describing a sample customer as a restaurant.\n"
   ]
  },
  {
   "cell_type": "markdown",
   "metadata": {},
   "source": [
    "**Answer:**\n",
    "To gain an understanding of what is going on, I am comparing these samples with the descriptive statistics of the data.   \n",
    "##### Sample 0 \n",
    "\n",
    "From the heatmap titled \"Percentile ranks of samples' category spending,\" we can see that this sample represents an establishment that spends very little on `Frozen` category as compared to other product categories. Furthermore, this kind of establishment also spends significantly on `Milk`, at eighty-three percentile to be exact. My intuition leads me to think that this *might* be a **market**. \n",
    "___ \n",
    "\n",
    "##### Sample 1 \n",
    "This kind of establishment spends less on `Delicatessen` at fourty-first percentile and even significantly less on the `Fresh` category. On the other categories, their spending is at well over the seventieth percentile range. My intuition leads me to believe this might be a place that serves meals and offers lodgings like a **hotel** or a **university** with a residence halls and adjoining cafetaria. \n",
    "___ \n",
    "##### Sample 2 \n",
    "This establishment spends significantly on all categories with the exception of the `Detergents_Paper` category where their spending is limited to the fifty-eight percentile. My guess is that this sample represents a **wholesale retailer** like a \"costco\" or \"Sam's club\""
   ]
  },
  {
   "cell_type": "markdown",
   "metadata": {},
   "source": [
    "### Implementation: Feature Relevance\n",
    "One interesting thought to consider is if one (or more) of the six product categories is actually relevant for understanding customer purchasing. That is to say, is it possible to determine whether customers purchasing some amount of one category of products will necessarily purchase some proportional amount of another category of products? We can make this determination quite easily by training a supervised regression learner on a subset of the data with one feature removed, and then score how well that model can predict the removed feature.\n"
   ]
  },
  {
   "cell_type": "code",
   "execution_count": 8,
   "metadata": {
    "collapsed": false
   },
   "outputs": [
    {
     "name": "stdout",
     "output_type": "stream",
     "text": [
      "r-squared score on training data:  1.0\n",
      "r-squared score on testing data:  0.681884008544\n"
     ]
    }
   ],
   "source": [
    "# TODO: Make a copy of the DataFrame, using the 'drop' function to drop the given feature\n",
    "\n",
    "new_data_target = data['Grocery']\n",
    "new_data = data.drop('Grocery', axis=1, inplace=False)\n",
    "\n",
    "\n",
    "# TODO: Split the data into training and testing sets using the given feature as the target\n",
    "from sklearn import cross_validation\n",
    "X_train, X_test, y_train, y_test = cross_validation.train_test_split(new_data, new_data_target, \n",
    "                                                                     test_size=0.25, random_state=42)\n",
    "\n",
    "# TODO: Create a decision tree regressor and fit it to the training set\n",
    "\n",
    "from sklearn.tree import DecisionTreeRegressor\n",
    "\n",
    "regressor_score = {}\n",
    "iteration_limit = 100\n",
    "\n",
    "# Repeated the regression 100x to smooth out variation in the decision tree formation and train/test splits\n",
    "for i in range(iteration_limit):\n",
    "    \n",
    "    regressor = DecisionTreeRegressor(random_state = 42)\n",
    "    regressor.fit(X_train, y_train)\n",
    "    score = regressor.score(X_test, y_test)\n",
    "    if 'train' in regressor_score.keys():\n",
    "        regressor_score['train'] += regressor.score(X_train, y_train)\n",
    "        regressor_score['test'] += regressor.score(X_test, y_test)\n",
    "    else:\n",
    "        regressor_score['train'] = regressor.score(X_train, y_train)\n",
    "        regressor_score['test'] = regressor.score(X_test, y_test)\n",
    "        \n",
    "        \n",
    "# TODO: Report the score of the prediction using the testing set\n",
    "print \"r-squared score on training data: \", regressor_score['train']/iteration_limit\n",
    "print \"r-squared score on testing data: \", regressor_score['test']/iteration_limit"
   ]
  },
  {
   "cell_type": "markdown",
   "metadata": {},
   "source": [
    "### Question 2\n",
    "*Which feature did you attempt to predict?   \n",
    "What was the reported prediction score?   \n",
    "Is this feature necessary for identifying customers' spending habits?*   \n",
    "**Hint:** The coefficient of determination, `R^2`, is scored between 0 and 1, with 1 being a perfect fit. A negative `R^2` implies the model fails to fit the data."
   ]
  },
  {
   "cell_type": "markdown",
   "metadata": {},
   "source": [
    "**Answer:**\n",
    "\n",
    "Which feature did you attempt to predict?   \n",
    "  - I predicted the impact of the feature '`Grocery`' on customers' spending habits.   \n",
    "  \n",
    "What was the reported prediction score?   \n",
    "  - The prediction score was 0.682   \n",
    "  \n",
    "Is this feature necessary for identifying customers' spending habits?\n",
    "  - This score which tends towards being high indicates that it is not necessary for identifying customers' spending habits. The reason is as follows: when customers spend on `Grocery` they also spend on other features, which means w can't really decipher spending habits. What would be better is to regress on a feature that has a **low** $R^2$ score indicating low correlation."
   ]
  },
  {
   "cell_type": "markdown",
   "metadata": {},
   "source": [
    "### Visualize Feature Distributions\n",
    "To get a better understanding of the dataset, we can construct a scatter matrix of each of the six product features present in the data. If you found that the feature you attempted to predict above is relevant for identifying a specific customer, then the scatter matrix below may not show any correlation between that feature and the others. Conversely, if you believe that feature is not relevant for identifying a specific customer, the scatter matrix might show a correlation between that feature and another feature in the data. Run the code block below to produce a scatter matrix."
   ]
  },
  {
   "cell_type": "code",
   "execution_count": 10,
   "metadata": {
    "collapsed": false
   },
   "outputs": [
    {
     "data": {
      "image/png": "[encoded data removed]",
      "text/plain": [
       "<matplotlib.figure.Figure at 0x11a310d50>"
      ]
     },
     "metadata": {},
     "output_type": "display_data"
    }
   ],
   "source": [
    "# Produce a scatter matrix for each pair of features in the data\n",
    "pd.scatter_matrix(data, alpha = 0.3, figsize = (14,8), diagonal = 'kde');"
   ]
  },
  {
   "cell_type": "code",
   "execution_count": null,
   "metadata": {
    "collapsed": false
   },
   "outputs": [],
   "source": [
    "corr = data.corr()\n",
    "mask = np.zeros_like(corr)\n",
    "mask[np.triu_indices_from(mask, 1)] = True\n",
    "\n",
    "with sns.axes_style(\"white\"):\n",
    "    ax = sns.heatmap(corr, mask=mask, square=True, annot=True, cmap='RdBu', fmt='+.2f')\n",
    "    plt.xticks(rotation=70, ha='right');"
   ]
  },
  {
   "cell_type": "markdown",
   "metadata": {},
   "source": [
    "### Question 3\n",
    "*Are there any pairs of features which exhibit some degree of correlation? Does this confirm or deny your suspicions about the relevance of the feature you attempted to predict? How is the data for those features distributed?*  \n",
    "**Hint:** Is the data normally distributed? Where do most of the data points lie? "
   ]
  },
  {
   "cell_type": "markdown",
   "metadata": {},
   "source": [
    "**Answer:**   \n",
    "Are there any pairs of features which exhibit some degree of correlation?   \n",
    "In addition to visually reading the scatterplot for correlations, I am choosing any two features which have a correlation score greater than 0.5 as significant. \n",
    "  - The pairs '`Grocery`' and '`Detergents_Paper`' have a very strong correlation. From the scatterplot, one can see that the data for these two features looks like it could fit a nice diagonal. To formalize my intuition, I performed a pearson's correlation on these two features and got a 0.92 score, noting that a score of 1 is the highest a correlation can be.\n",
    "  - Another pair was '`Grocery`' and '`Milk`'. From the scatterplot, you can kind of see a trending along the diagonal. It had a correlation score of 0.73.\n",
    "  - Another pair was '`Milk`' and '`Detergents_Paper`', the pair had a correlation score of 0.66.\n",
    "\n",
    "\n",
    "Does this confirm or deny your suspicions about the relevance of the feature you attempted to predict?\n",
    "- This confirms my suspicions that '`Grocery`' is **not** a strong predictor of overall client spending habits.   \n",
    " \n",
    "How is the data for those features distributed?\n",
    " - The data for these features is not normally distributed. Its skewed to the right and has a long tail."
   ]
  },
  {
   "cell_type": "markdown",
   "metadata": {},
   "source": [
    "## Data Preprocessing\n",
    "In this section, you will preprocess the data to create a better representation of customers by performing a scaling on the data and detecting (and optionally removing) outliers. Preprocessing data is often times a critical step in assuring that results you obtain from your analysis are significant and meaningful."
   ]
  },
  {
   "cell_type": "markdown",
   "metadata": {},
   "source": [
    "### Implementation: Feature Scaling\n",
    "If data is not normally distributed, especially if the mean and median vary significantly (indicating a large skew), it is most [often appropriate](http://econbrowser.com/archives/2014/02/use-of-logarithms-in-economics) to apply a non-linear scaling — particularly for financial data. One way to achieve this scaling is by using a [Box-Cox test](http://scipy.github.io/devdocs/generated/scipy.stats.boxcox.html), which calculates the best power transformation of the data that reduces skewness. A simpler approach which can work in most cases would be applying the natural logarithm.\n",
    "\n",
    "In the code block below, you will need to implement the following:\n",
    " - Assign a copy of the data to `log_data` after applying a logarithm scaling. Use the `np.log` function for this.\n",
    " - Assign a copy of the sample data to `log_samples` after applying a logrithm scaling. Again, use `np.log`."
   ]
  },
  {
   "cell_type": "code",
   "execution_count": null,
   "metadata": {
    "collapsed": false
   },
   "outputs": [],
   "source": [
    "# TODO: Scale the data using the natural logarithm\n",
    "log_data = np.log(data, dtype='float64')\n",
    "\n",
    "# TODO: Scale the sample data using the natural logarithm\n",
    "log_samples = np.log(samples, dtype='float64')\n",
    "\n",
    "# Produce a scatter matrix for each pair of newly-transformed features\n",
    "pd.scatter_matrix(log_data, alpha = 0.3, figsize = (14,8), diagonal = 'kde');"
   ]
  },
  {
   "cell_type": "code",
   "execution_count": null,
   "metadata": {
    "collapsed": false
   },
   "outputs": [],
   "source": [
    "# plot densities of log-transformed data\n",
    "plt.figure(figsize=(8,4))\n",
    "for col in data.columns:\n",
    "    log_data[col].plot.kde()\n",
    "plt.legend();\n",
    "plt.grid(False);\n",
    "plt.title('Densities of log-transformed data');"
   ]
  },
  {
   "cell_type": "markdown",
   "metadata": {},
   "source": [
    "### Observation\n",
    "After applying a natural logarithm scaling to the data, the distribution of each feature should appear much more normal. For any pairs of features you may have identified earlier as being correlated, observe here whether that correlation is still present (and whether it is now stronger or weaker than before).\n",
    "\n",
    "Run the code below to see how the sample data has changed after having the natural logarithm applied to it."
   ]
  },
  {
   "cell_type": "code",
   "execution_count": null,
   "metadata": {
    "collapsed": false
   },
   "outputs": [],
   "source": [
    "# Display the log-transformed sample data\n",
    "display(log_samples)"
   ]
  },
  {
   "cell_type": "markdown",
   "metadata": {},
   "source": [
    "### Implementation: Outlier Detection\n",
    "Detecting outliers in the data is extremely important in the data preprocessing step of any analysis. The presence of outliers can often skew results which take into consideration these data points. There are many \"rules of thumb\" for what constitutes an outlier in a dataset. Here, we will use [Tukey's Method for identfying outliers](http://datapigtechnologies.com/blog/index.php/highlighting-outliers-in-your-data-with-the-tukey-method/): An *outlier step* is calculated as 1.5 times the interquartile range (IQR). A data point with a feature that is beyond an outlier step outside of the IQR for that feature is considered abnormal.\n",
    "\n",
    "In the code block below, you will need to implement the following:\n",
    " - Assign the value of the 25th percentile for the given feature to `Q1`. Use `np.percentile` for this.\n",
    " - Assign the value of the 75th percentile for the given feature to `Q3`. Again, use `np.percentile`.\n",
    " - Assign the calculation of an outlier step for the given feature to `step`.\n",
    " - Optionally remove data points from the dataset by adding indices to the `outliers` list.\n",
    "\n",
    "**NOTE:** If you choose to remove any outliers, ensure that the sample data does not contain any of these points!  \n",
    "Once you have performed this implementation, the dataset will be stored in the variable `good_data`."
   ]
  },
  {
   "cell_type": "code",
   "execution_count": null,
   "metadata": {
    "collapsed": false
   },
   "outputs": [],
   "source": [
    "outlier  = []\n",
    "outlier_indices = []\n",
    "\n",
    "# For each feature find the data points with extreme high or low values\n",
    "for feature in log_data.keys():\n",
    "    \n",
    "    # TODO: Calculate Q1 (25th percentile of the data) for the given feature\n",
    "    Q1 = np.percentile(log_data[feature], 25)\n",
    "    \n",
    "    # TODO: Calculate Q3 (75th percentile of the data) for the given feature\n",
    "    Q3 = np.percentile(log_data[feature], 75)\n",
    "    \n",
    "    # TODO: Use the interquartile range to calculate an outlier step (1.5 times the interquartile range)\n",
    "    step = 1.5 * (Q3 - Q1)\n",
    "    \n",
    "    # Display the outliers\n",
    "    print \"Data points considered outliers for the feature '{}':\".format(feature)\n",
    "    temp_data = log_data[~((log_data[feature] >= Q1 - step) & (log_data[feature] <= Q3 + step))]\n",
    "    display(temp_data)\n",
    "    outlier.append(dict(feature=feature, indices=temp_data.index.tolist()))\n",
    "    outlier_indices += temp_data.index.tolist()\n",
    "    \n",
    "# OPTIONAL: Select the indices for data points you wish to remove\n",
    "outliers = outlier_indices\n",
    "\n",
    "# Remove the outliers, if any were specified\n",
    "good_data = log_data.drop(log_data.index[outliers]).reset_index(drop = True)"
   ]
  },
  {
   "cell_type": "code",
   "execution_count": null,
   "metadata": {
    "collapsed": false
   },
   "outputs": [],
   "source": [
    "import operator\n",
    "\n",
    "tmp = {}\n",
    "\n",
    "for i in outlier:\n",
    "    for j in i['indices']:\n",
    "        if j in tmp.keys():\n",
    "            tmp[j] += (i['feature'], 1)\n",
    "        else:\n",
    "            tmp[j] = (i['feature'], 1)\n",
    "            \n",
    "for key in tmp:\n",
    "    if len(tmp[key]) > 2:\n",
    "        print 'Record:{} is an outlier for \\n\\t\\t{}'.format(key, [n for n in tmp[key] if type(n) == str ])"
   ]
  },
  {
   "cell_type": "markdown",
   "metadata": {
    "collapsed": false
   },
   "source": [
    "### Question 4\n",
    "*Are there any data points considered outliers for more than one feature based on the definition above? Should these data points be removed from the dataset? If any data points were added to the `outliers` list to be removed, explain why.* "
   ]
  },
  {
   "cell_type": "markdown",
   "metadata": {},
   "source": [
    "**Answer:**   \n",
    " \n",
    "*Are there any data points considered outliers for more than one feature based on the definition above?*   \n",
    "Record: 65 is an outlier for `'Fresh'`, `'Frozen'`   \n",
    "Record: 66 is an outlier for `'Fresh'`, `'Delicatessen'`      \n",
    "Record: 75 is an outlier for `'Grocery'`, `'Detergents_Paper'`     \n",
    "Record: 128 is an outlier for `'Fresh'`, `'Delicatessen'`      \n",
    "Record: 154 is an outlier for `'Milk'`, `'Grocery'`, `'Delicatessen'`   \n",
    "\n",
    "*Should these data points be removed from the dataset?*   \n",
    "These data points should be removed from the dataset   \n",
    "\n",
    "*If any data points were added to the `outliers` list to be removed, explain why.*   \n",
    "The algorithm that we will be using to cluster the data points, '`KMeans`' is *very sensitive* to outliers. Since this algorithm uses the distance from the centroids of the clusters, i.e. the means to calculate which data points belong to what cluster, leaving values that are very far off from the rest will influence the structure, leading to undesirable clusters.\n",
    "\n",
    "![Effect of outliers on KMeans clustering](report/figures/kMeansOutlierClusters.png)\n",
    "\n",
    "**NB**: It is important to that we removed 42 data points from our dataset which corresponds to 10% of the dataset. In this case we still have around 390 uniques data points for a problem with 6 variables. "
   ]
  },
  {
   "cell_type": "markdown",
   "metadata": {},
   "source": [
    "## Feature Transformation\n",
    "In this section you will use principal component analysis (PCA) to draw conclusions about the underlying structure of the wholesale customer data. Since using PCA on a dataset calculates the dimensions which best maximize variance, we will find which compound combinations of features best describe customers."
   ]
  },
  {
   "cell_type": "markdown",
   "metadata": {
    "collapsed": false
   },
   "source": [
    "### Implementation: PCA\n",
    "\n",
    "Now that the data has been scaled to a more normal distribution and has had any necessary outliers removed, we can now apply PCA to the `good_data` to discover which dimensions about the data best maximize the variance of features involved. In addition to finding these dimensions, PCA will also report the *explained variance ratio* of each dimension — how much variance within the data is explained by that dimension alone. Note that a component (dimension) from PCA can be considered a new \"feature\" of the space, however it is a composition of the original features present in the data.\n",
    "\n",
    "In the code block below, you will need to implement the following:\n",
    " - Import `sklearn.decomposition.PCA` and assign the results of fitting PCA in six dimensions with `good_data` to `pca`.\n",
    " - Apply a PCA transformation of the sample log-data `log_samples` using `pca.transform`, and assign the results to `pca_samples`."
   ]
  },
  {
   "cell_type": "code",
   "execution_count": null,
   "metadata": {
    "collapsed": false
   },
   "outputs": [],
   "source": [
    "# TODO: Apply PCA by fitting the good data with the same number of dimensions as features\n",
    "from sklearn.decomposition import PCA\n",
    "\n",
    "pca = PCA(n_components=6)\n",
    "pca.fit(good_data)\n",
    "\n",
    "# TODO: Transform the sample log-data using the PCA fit above\n",
    "pca_samples = pca.transform(log_samples)\n",
    "\n",
    "# Generate PCA results plot\n",
    "pca_results = rs.pca_results(good_data, pca)"
   ]
  },
  {
   "cell_type": "code",
   "execution_count": null,
   "metadata": {
    "collapsed": false
   },
   "outputs": [],
   "source": [
    "display(pca_results)"
   ]
  },
  {
   "cell_type": "code",
   "execution_count": null,
   "metadata": {
    "collapsed": false
   },
   "outputs": [],
   "source": [
    "cols = [col for col in pca_results.columns if col not in ['Explained Variance']]\n",
    "df2 = pca_results[cols]\n",
    "\n",
    "with sns.axes_style(\"white\"):\n",
    "    ax = sns.heatmap(df2, square=True, annot=True, vmin=-1, vmax=1, cmap='RdBu', fmt='+.2f')\n",
    "    plt.xticks(rotation=70, ha='right');"
   ]
  },
  {
   "cell_type": "markdown",
   "metadata": {
    "collapsed": false
   },
   "source": [
    "### Question 5\n",
    "*How much variance in the data is explained* ***in total*** *by the first and second principal component? What about the first four principal components? Using the visualization provided above, discuss what the first four dimensions best represent in terms of customer spending.*  \n",
    "**Hint:** A positive increase in a specific dimension corresponds with an *increase* of the *positive-weighted* features and a *decrease* of the *negative-weighted* features. The rate of increase or decrease is based on the individual feature weights."
   ]
  },
  {
   "cell_type": "markdown",
   "metadata": {},
   "source": [
    "\n",
    "**Answer:**   \n",
    "How much variance in the data is explained ***in total*** by the first and second principal component?   \n",
    "unsurprisingly, dimensions 1 and 2 account for almost 72% of the variance in the data. One of the interesting aspects of PCA is that the most interesting dynamics occur only in the first *k* dimension, and then they fall off. In this case, I would say the first **3** components highlight some clear customer segments.    \n",
    "\n",
    "\n",
    "What about the first four principal components?   \n",
    "The first four principal components account for 93% of the variance in the dataset. For this analysis I have decided that a correlation value above 0.5+- is deemed important. \n",
    "\n",
    "#### First Principal Component Analysis - Dimension 1\n",
    "The first principal component is made up of large positive weights in `Detergents_Paper`, and lesser but still sizeable positive weights on `Grocery` and `Milk`. It also correlates with a decrease in `Fresh` and `Frozen`. This might represent spending in household staples products that are purchased together. \n",
    "- It is important to note that we have a lot of variance in customer spending in the correlated features of `Detergents_Paper`, `Grocery` and `Milk` -- some customers buy more while other customers buy less in these 3 categories.\n",
    "\n",
    "#### Second Principal Component Analysis - Dimension 2\n",
    "The second principal component is made up of large positive weights in `Fresh` and `Frozen`, a lesser but still sizeable weight on `Delicatessen`, and smaller weights on `Milk` and `Grocery`. It also correlates with a slight decrease in `Detergent_Paper`. This might represent spending in food items that are purchased together.\n",
    "\n",
    "#### Third Principal Component Analysis - Dimension 3\n",
    "The third principal component is made up of a large positive weight in `Fresh`, a small positive weight in `Detergent_Paper`, and a significantly lesser positive weight in `Grocery`. In addition, the third principal component has a large negative weight in `Delicatessen` and a lesser negative weights in `Milk` and `Frozen` categories. This might represent spending more in the `Fresh` category while spending less in `Delicatessen` category.\n",
    "- We have some variance in customer spending in the correlated features of `Fresh`, `Detergent_Paper` and `Grocery` -- some customers buy more while other customers buy less in these 3 categories.\n",
    "\n",
    "\n",
    "#### Fourth Principal Component Analysis - Dimension 4\n",
    "The fourth principal component is made up of a large positive weight in `Frozen` and a lesser but somewhat sizeable positive weight in `Detergents_Paper`. In addition, this principal component has large negative weight in `Delicatessen`, a smaller negative weight in `Fresh`, `Milk`, and a significantly smaller negative weight in `Grocery`. This might represent spending more on non-perishable products while simultaneously spending less on perishable products.\n",
    "\n",
    "Using the visualization provided above, discuss what the first four dimensions best represent in terms of customer spending.   \n",
    "- The first dimension seems to represent customers who spend *significantly* on detergents and paper, spend okay on milk and groceries, and none to less on fresh produce and frozen products.\n",
    "- Another way to understand these first four dimensions is that they each represent a *customer segment*"
   ]
  },
  {
   "cell_type": "markdown",
   "metadata": {},
   "source": [
    "### Observation\n",
    "Run the code below to see how the log-transformed sample data has changed after having a PCA transformation applied to it in six dimensions. Observe the numerical value for the first four dimensions of the sample points. Consider if this is consistent with your initial interpretation of the sample points."
   ]
  },
  {
   "cell_type": "code",
   "execution_count": null,
   "metadata": {
    "collapsed": false
   },
   "outputs": [],
   "source": [
    "# Display sample log-data after having a PCA transformation applied\n",
    "display(pd.DataFrame(np.round(pca_samples, 4), columns = pca_results.index.values))\n",
    "display(samples)"
   ]
  },
  {
   "cell_type": "markdown",
   "metadata": {},
   "source": [
    "### Implementation: Dimensionality Reduction\n",
    "When using principal component analysis, one of the main goals is to reduce the dimensionality of the data — in effect, reducing the complexity of the problem. Dimensionality reduction comes at a cost: Fewer dimensions used implies less of the total variance in the data is being explained. Because of this, the *cumulative explained variance ratio* is extremely important for knowing how many dimensions are necessary for the problem. Additionally, if a signifiant amount of variance is explained by only two or three dimensions, the reduced data can be visualized afterwards.\n",
    "\n",
    "In the code block below, you will need to implement the following:\n",
    " - Assign the results of fitting PCA in two dimensions with `good_data` to `pca`.\n",
    " - Apply a PCA transformation of `good_data` using `pca.transform`, and assign the reuslts to `reduced_data`.\n",
    " - Apply a PCA transformation of the sample log-data `log_samples` using `pca.transform`, and assign the results to `pca_samples`."
   ]
  },
  {
   "cell_type": "code",
   "execution_count": null,
   "metadata": {
    "collapsed": false
   },
   "outputs": [],
   "source": [
    "# TODO: Apply PCA by fitting the good data with only two dimensions\n",
    "pca = PCA(n_components=2)\n",
    "pca.fit(good_data)\n",
    "\n",
    "# TODO: Transform the good data using the PCA fit above\n",
    "reduced_data = pca.transform(good_data)\n",
    "\n",
    "# TODO: Transform the sample log-data using the PCA fit above\n",
    "pca_samples = pca.transform(log_samples)\n",
    "\n",
    "# Create a DataFrame for the reduced data\n",
    "reduced_data = pd.DataFrame(reduced_data, columns = ['Dimension 1', 'Dimension 2'])\n",
    "\n",
    "\n"
   ]
  },
  {
   "cell_type": "markdown",
   "metadata": {},
   "source": [
    "### Observation\n",
    "Run the code below to see how the log-transformed sample data has changed after having a PCA transformation applied to it using only two dimensions. Observe how the values for the first two dimensions remains unchanged when compared to a PCA transformation in six dimensions."
   ]
  },
  {
   "cell_type": "code",
   "execution_count": null,
   "metadata": {
    "collapsed": false
   },
   "outputs": [],
   "source": [
    "# Display sample log-data after applying PCA transformation in two dimensions\n",
    "display(pd.DataFrame(np.round(pca_samples, 4), columns = ['Dimension 1', 'Dimension 2']))"
   ]
  },
  {
   "cell_type": "markdown",
   "metadata": {},
   "source": [
    "## Clustering\n",
    "\n",
    "In this section, you will choose to use either a K-Means clustering algorithm or a Gaussian Mixture Model clustering algorithm to identify the various customer segments hidden in the data. You will then recover specific data points from the clusters to understand their significance by transforming them back into their original dimension and scale. "
   ]
  },
  {
   "cell_type": "markdown",
   "metadata": {},
   "source": [
    "### Question 6\n",
    "*What are the advantages to using a K-Means clustering algorithm? What are the advantages to using a Gaussian Mixture Model clustering algorithm? Given your observations about the wholesale customer data so far, which of the two algorithms will you use and why?*"
   ]
  },
  {
   "cell_type": "markdown",
   "metadata": {},
   "source": [
    "**Answer:**   \n",
    "What are the advantages to using a K-Means clustering algorithm? \n",
    "- Easy to understand and compute\n",
    "- The clusters do not overlap\n",
    "- It's efficient. The time requirement is $O(I*K*m*n)$ as long as the number of clusters is significantly less than m.\n",
    "    - where $I$ is the number of iterations required for convergence\n",
    "    - where $K$ is the number of clusters\n",
    "    - where $m$ the number of points\n",
    "    - where $n$ is the number of attributes   \n",
    "\n",
    "What are the advantages to using a Gaussian Mixture Model clustering algorithm?   \n",
    "- Allows for soft-classification, i.e., data point can belong to more than one cluster with probabilities\n",
    "- If we believe that our dataset has some *hidden* phenomenon in it, this algorithm is well suited to finding it\n",
    "- Its good for density estimation\n",
    "\n",
    "Given your observations about the wholesale customer data so far, which of the two algorithms will you use and why?   \n",
    "- I am going to go with a **KMeans** algorithm for the following reasons:\n",
    "    - I want to have a clear delineation of who the various customer segmets are. KMeans gives hard partitions and will allow for this.\n",
    "    - KMeans scales and is a simple and efficient algorithm unlike the Gaussian Mixture Model which does not scale. If we ever grow the dataset, this difference will save a lot of time in the future. "
   ]
  },
  {
   "cell_type": "markdown",
   "metadata": {},
   "source": [
    "### Implementation: Creating Clusters\n",
    "Depending on the problem, the number of clusters that you expect to be in the data may already be known. When the number of clusters is not known *a priori*, there is no guarantee that a given number of clusters best segments the data, since it is unclear what structure exists in the data — if any. However, we can quantify the \"goodness\" of a clustering by calculating each data point's *silhouette coefficient*. The [silhouette coefficient](http://scikit-learn.org/stable/modules/generated/sklearn.metrics.silhouette_score.html) for a data point measures how similar it is to its assigned cluster from -1 (dissimilar) to 1 (similar). Calculating the *mean* silhouette coefficient provides for a simple scoring method of a given clustering.\n",
    "\n",
    "In the code block below, you will need to implement the following:\n",
    " - Fit a clustering algorithm to the `reduced_data` and assign it to `clusterer`.\n",
    " - Predict the cluster for each data point in `reduced_data` using `clusterer.predict` and assign them to `preds`.\n",
    " - Find the cluster centers using the algorithm's respective attribute and assign them to `centers`.\n",
    " - Predict the cluster for each sample data point in `pca_samples` and assign them `sample_preds`.\n",
    " - Import sklearn.metrics.silhouette_score and calculate the silhouette score of `reduced_data` against `preds`.\n",
    "   - Assign the silhouette score to `score` and print the result."
   ]
  },
  {
   "cell_type": "code",
   "execution_count": null,
   "metadata": {
    "collapsed": false
   },
   "outputs": [],
   "source": [
    "# TODO: Apply your clustering algorithm of choice to the reduced data \n",
    "\n",
    "from sklearn.cluster import KMeans\n",
    "from sklearn.metrics import silhouette_score\n",
    "\n",
    "n_clusters = 2\n",
    "\n",
    "clusterer = KMeans(n_clusters, init='k-means++', n_init=100)\n",
    "clusterer.fit(reduced_data)\n",
    " \n",
    "\n",
    "# TODO: Predict the cluster for each data point\n",
    "preds = clusterer.predict(reduced_data)\n",
    "\n",
    "# TODO: Find the cluster centers\n",
    "centers = clusterer.cluster_centers_\n",
    "\n",
    "# TODO: Predict the cluster for each transformed sample data point\n",
    "sample_preds =  clusterer.predict(pca_samples)\n",
    "\n",
    "# TODO: Calculate the mean silhouette coefficient for the number of clusters chosen\n",
    "score = silhouette_score(reduced_data, preds)\n"
   ]
  },
  {
   "cell_type": "markdown",
   "metadata": {},
   "source": [
    "### Question 7\n",
    "*Report the silhouette score for several cluster numbers you tried. Of these, which number of clusters has the best silhouette score?* "
   ]
  },
  {
   "cell_type": "code",
   "execution_count": null,
   "metadata": {
    "collapsed": false
   },
   "outputs": [],
   "source": [
    "meanSilhouetteScore = []\n",
    "n = 10\n",
    "\n",
    "for i in range(2, n):\n",
    "    my_clusterer = KMeans(i, init='k-means++', n_init=100)\n",
    "    my_clusterer.fit(reduced_data)\n",
    "    my_preds = my_clusterer.predict(reduced_data)\n",
    "    my_centers = my_clusterer.cluster_centers_\n",
    "    my_sample_preds =  my_clusterer.predict(pca_samples)\n",
    "    my_score = silhouette_score(reduced_data, my_preds)\n",
    "    meanSilhouetteScore.append(my_score)\n",
    "        "
   ]
  },
  {
   "cell_type": "code",
   "execution_count": null,
   "metadata": {
    "collapsed": false
   },
   "outputs": [],
   "source": [
    "ms = meanSilhouetteScore\n",
    "## forward pad the array since KMeans doesn't allow clusters less than 2\n",
    "ms.insert(0,0)\n",
    "ms.insert(1,0)\n",
    "\n",
    "## Plot the scores\n",
    "plt.plot(ms, 'o-')\n",
    "plt.title('Mean Silhouette Score')\n",
    "plt.xlabel('Number of clusters')\n",
    "plt.ylabel('Score')\n",
    "plt.xticks(np.arange(0, n, 1))\n",
    "plt.yticks(np.arange(0, 0.6, 0.05))\n",
    "plt.grid(True)\n",
    "plt.show()"
   ]
  },
  {
   "cell_type": "markdown",
   "metadata": {},
   "source": [
    "**Answer:**   \n",
    "Which number of clusters has the best silhouette score?\n",
    "- Based on the silhoutte score that was generated, the optimal number of clusters is 2"
   ]
  },
  {
   "cell_type": "markdown",
   "metadata": {},
   "source": [
    "### Cluster Visualization\n",
    "Once you've chosen the optimal number of clusters for your clustering algorithm using the scoring metric above, you can now visualize the results by executing the code block below. Note that, for experimentation purposes, you are welcome to adjust the number of clusters for your clustering algorithm to see various visualizations. The final visualization provided should, however, correspond with the optimal number of clusters. "
   ]
  },
  {
   "cell_type": "code",
   "execution_count": null,
   "metadata": {
    "collapsed": false
   },
   "outputs": [],
   "source": [
    "# Display the results of the clustering from implementation\n",
    "rs.cluster_results(reduced_data, preds, centers, pca_samples)"
   ]
  },
  {
   "cell_type": "markdown",
   "metadata": {},
   "source": [
    "### Implementation: Data Recovery\n",
    "Each cluster presented in the visualization above has a central point. These centers (or means) are not specifically data points from the data, but rather the *averages* of all the data points predicted in the respective clusters. For the problem of creating customer segments, a cluster's center point corresponds to *the average customer of that segment*. Since the data is currently reduced in dimension and scaled by a logarithm, we can recover the representative customer spending from these data points by applying the inverse transformations.\n",
    "\n",
    "In the code block below, you will need to implement the following:\n",
    " - Apply the inverse transform to `centers` using `pca.inverse_transform` and assign the new centers to `log_centers`.\n",
    " - Apply the inverse function of `np.log` to `log_centers` using `np.exp` and assign the true centers to `true_centers`.\n"
   ]
  },
  {
   "cell_type": "code",
   "execution_count": null,
   "metadata": {
    "collapsed": false
   },
   "outputs": [],
   "source": [
    "# TODO: Inverse transform the centers\n",
    "log_centers = pca.inverse_transform(centers)\n",
    "\n",
    "# TODO: Exponentiate the centers\n",
    "true_centers =  np.exp(log_centers)\n",
    "\n",
    "# Display the true centers\n",
    "segments = ['Segment {}'.format(i) for i in range(0,len(centers))]\n",
    "true_centers = pd.DataFrame(np.round(true_centers), columns = data.keys())\n",
    "true_centers.index = segments\n",
    "display(true_centers)"
   ]
  },
  {
   "cell_type": "code",
   "execution_count": null,
   "metadata": {
    "collapsed": false
   },
   "outputs": [],
   "source": [
    "data.describe().ix['25%']"
   ]
  },
  {
   "cell_type": "code",
   "execution_count": null,
   "metadata": {
    "collapsed": false
   },
   "outputs": [],
   "source": [
    "data.describe().ix['50%']"
   ]
  },
  {
   "cell_type": "markdown",
   "metadata": {
    "collapsed": false
   },
   "source": [
    "##### Question 8\n",
    "Consider the total purchase cost of each product category for the representative data points above, and reference the statistical description of the dataset at the beginning of this project. *What set of establishments could each of the customer segments represent?*  \n",
    "**Hint:** A customer who is assigned to `'Cluster X'` should best identify with the establishments represented by the feature set of `'Segment X'`."
   ]
  },
  {
   "cell_type": "markdown",
   "metadata": {},
   "source": [
    "**Answer:**   \n",
    "\n",
    "**Segment 0**'spends significantly on fresh and frozen products. I think this might belongs to the set that includes, but not limited to  ** (supermarkets, caterers, restaurants)**\n",
    "\n",
    "\n",
    "**Segment 1**'s spending on milk, grocery, Frozen and detergents is around or over the 75% range for this dataset. I think this might belong to the set that includes, but not limited to  ** (child care centers, public school systems, hotels, hospitals, universities, military bases)**. \n",
    "\n"
   ]
  },
  {
   "cell_type": "markdown",
   "metadata": {
    "collapsed": false
   },
   "source": [
    "### Question 9\n",
    "*For each sample point, which customer segment from* ***Question 8*** *best represents it? Are the predictions for each sample point consistent with this?*\n",
    "\n",
    "Run the code block below to find which cluster each sample point is predicted to be."
   ]
  },
  {
   "cell_type": "code",
   "execution_count": null,
   "metadata": {
    "collapsed": false
   },
   "outputs": [],
   "source": [
    "# Display the predictions\n",
    "for i, pred in enumerate(sample_preds):\n",
    "    print \"Sample point\", i, \"predicted to be in Cluster\", pred"
   ]
  },
  {
   "cell_type": "code",
   "execution_count": null,
   "metadata": {
    "collapsed": false
   },
   "outputs": [],
   "source": [
    "display(samples)\n",
    "display(true_centers)"
   ]
  },
  {
   "cell_type": "code",
   "execution_count": null,
   "metadata": {
    "collapsed": false
   },
   "outputs": [],
   "source": [
    "# check if samples' spending closer to segment 0 or 1\n",
    "samples = samples.reset_index(drop=True)\n",
    "df_diffs = (np.abs(samples-true_centers.iloc[0]) < np.abs(samples-true_centers.iloc[1])).applymap(lambda x: 0 if x else 1)\n",
    "\n",
    "# see how cluster predictions align with similariy of spending in each category\n",
    "df_preds = pd.concat([df_diffs, pd.Series(sample_preds, name='PREDICTION')], axis=1)\n",
    "sns.heatmap(df_preds, annot=True, cbar=False, yticklabels=['sample 0', 'sample 1', 'sample 2'], square=True)\n",
    "plt.title('Samples closer to\\ncluster 0 or 1?')\n",
    "plt.xticks(rotation=45, ha='center')\n",
    "plt.yticks(rotation=0);\n"
   ]
  },
  {
   "cell_type": "markdown",
   "metadata": {
    "collapsed": false
   },
   "source": [
    "**Answer:**   \n",
    "For each sample point, which customer segment from* ***Question 8*** *best represents it? \n",
    "- Sample point 0 predicted to be in Cluster 1\n",
    "- Sample point 1 predicted to be in Cluster 1\n",
    "- Sample point 2 predicted to be in Cluster 1\n",
    "\n",
    "Are the predictions for each sample point consistent with this?\n",
    "- Based on my intuition, **Sample 0** doesn't line up. I thought that sample was a small market, and *segment 1* more like a place to caters to feeding and caring for children.\n",
    "- For **Sample 1** my reasoning holds. If I generalize *child-care center* to institutions that feed people and washes a lot of laundry like beddings and table cloths, then it makes sense that its **Sample 1** is assigned to cluster 1.\n",
    "- For **Sample 2** doesn't line up. I thought of cluster 1 as a child-care center or restaurant, and **Sample 2** as a wholesale supermarket like Costo. From the clusters, you can see that this point is amongs the farthest away from the center, which corresponding to numerically larger data points, so perhaps it *still* falls in line with my intuition."
   ]
  },
  {
   "cell_type": "markdown",
   "metadata": {},
   "source": [
    "## Conclusion"
   ]
  },
  {
   "cell_type": "markdown",
   "metadata": {
    "collapsed": true
   },
   "source": [
    "### Question 10\n",
    "Companies often run [A/B tests](https://en.wikipedia.org/wiki/A/B_testing) when making small changes to their products or services to determine whether that change affects its customers positively or negatively. The wholesale distributor wants to consider changing its delivery service from 5 days a week to 3 days a week, but will only do so if it affects their customers positively. *How would you use the customer segments you found above to perform an A/B test for this change?*  \n",
    "**Hint:** Can we assume the change affects all customers equally? How can we determine which group of customers it affects the most?"
   ]
  },
  {
   "cell_type": "markdown",
   "metadata": {},
   "source": [
    "**Answer:**   \n",
    "\n",
    "The first thing we do is isolate the change to the customer segments that bring in the least amount of revenue. Once we have run the A/B test, and we get positive results, then we can scale up the process to the other customer segments, making sure that we continue to monitor the impact of the change on the revenue that comes from those segments.   \n",
    "\n",
    "We can't assume the change will affect all customers equally. It would be impractical to assume that their sources of revenue are similar. For example, let's take two hypothetical customer segments:\n",
    "- Universities\n",
    "- Hotels   \n",
    "\n",
    "These two hypothetical verticals have vastly different sources of revenue. Universities get their revenue from tuition, grants, and returns from endowments. While hotels get the majority of their revenue from rooms. These revenue are based on different schedules. "
   ]
  },
  {
   "cell_type": "markdown",
   "metadata": {},
   "source": [
    "### Question 11\n",
    "Additional structure is derived from originally unlabeled data when using clustering techniques. Since each customer has a segment it best identifies with (depending on the clustering algorithm applied), we can consider *'customer segment'* as an **engineered feature** for the data. Assume the wholesale distributor recently acquired ten new customers and has made estimates for each customer's annual spending of the six product categories. Knowing these estimates, the wholesale distributor wants to classify each new customer to one of the customer segments to determine the most appropriate delivery service.  \n",
    "*Describe a supervised learning strategy you could use to make classification predictions for the ten new customers.*  \n",
    "**Hint:** What other input feature could the supervised learner use besides the six product features to help make a prediction?"
   ]
  },
  {
   "cell_type": "markdown",
   "metadata": {},
   "source": [
    "**Answer:**   \n",
    "Classification   \n",
    "Features:`{Fresh, Milk, Grocery, Frozen, DetergentsPaper, Delicatessen, Channel, Region, distCluster_[i] where i in {n = number of clusters}}`   \n",
    "Labels: `{cluster labels}`   \n",
    "\n",
    "We will take this as a classification task where the labels for our data will be the clusters they belong to. As such, the first thing we do is attach a label to each of our data point in our dataset. For classification to be effective in this context, we will generalize a binary classification problem to that of a multi-label classification.   \n",
    "\n",
    "In addition to the six product categories, Channel and Region, I have created an engineered feature `'distCluster_[i]'`. This feature represented the distance value from the mean of each cluster that we have a label for. For my clustering algorithm, I used KMeans, which create hard partitions. I would like to leverage the ability to incorporate how far each data point is from the means of each of the clusters as another feature for my learner.   \n"
   ]
  },
  {
   "cell_type": "markdown",
   "metadata": {},
   "source": [
    "### Visualizing Underlying Distributions\n",
    "\n",
    "At the beginning of this project, it was discussed that the `'Channel'` and `'Region'` features would be excluded from the dataset so that the customer product categories were emphasized in the analysis. By reintroducing the `'Channel'` feature to the dataset, an interesting structure emerges when considering the same PCA dimensionality reduction applied earlier to the original dataset.\n",
    "\n",
    "Run the code block below to see how each data point is labeled either `'HoReCa'` (Hotel/Restaurant/Cafe) or `'Retail'` the reduced space. In addition, you will find the sample points are circled in the plot, which will identify their labeling."
   ]
  },
  {
   "cell_type": "code",
   "execution_count": null,
   "metadata": {
    "collapsed": false,
    "scrolled": false
   },
   "outputs": [],
   "source": [
    "# Display the clustering results based on 'Channel' data\n",
    "rs.channel_results(reduced_data, outliers, pca_samples)"
   ]
  },
  {
   "cell_type": "markdown",
   "metadata": {},
   "source": [
    "### Question 12\n",
    "*How well does the clustering algorithm and number of clusters you've chosen compare to this underlying distribution of Hotel/Restaurant/Cafe customers to Retailer customers? Are there customer segments that would be classified as purely 'Retailers' or 'Hotels/Restaurants/Cafes' by this distribution? Would you consider these classifications as consistent with your previous definition of the customer segments?*"
   ]
  },
  {
   "cell_type": "markdown",
   "metadata": {},
   "source": [
    "**Answer:**   \n",
    "How well does the clustering algorithm and number of clusters you've chosen compare to this underlying distribution of Hotel/Restaurant/Cafe customers to Retailer customers? Are there customer segments that would be classified as purely 'Retailers' or 'Hotels/Restaurants/Cafes' by this distribution?    \n",
    "\n",
    "![Results of KMeans Clustering on the reduced data](report/figures/kMeansModelResults.png)\n",
    "\n",
    "- The KMeans algorithm with 2 clusters does rather well. It correctly identified the **Retailers** cluster, and the **Hotels/Restaurants/Cafes** as can be seen from the image above.   \n",
    "\n",
    "Would you consider these classifications as consistent with your previous definition of the customer segments?\n",
    "Yes and no.   \n",
    "- The **Retailer** cluster matches nicely to what I referred to as a ** supermarket**.\n",
    "- The **Hotels/Restaurants/Cafes** also matches nicely as I previously said that I thought the place might be a **child care center** or a **large restaurant chain** that serves breakfast. \n",
    "\n"
   ]
  },
  {
   "cell_type": "markdown",
   "metadata": {},
   "source": [
    "> **Note**: Once you have completed all of the code implementations and successfully answered each question above, you may finalize your work by exporting the iPython Notebook as an HTML document. You can do this by using the menu above and navigating to  \n",
    "**File -> Download as -> HTML (.html)**. Include the finished document along with this notebook as your submission."
   ]
  }
 ],
 "metadata": {
  "kernelspec": {
   "display_name": "Python 2",
   "language": "python",
   "name": "python2"
  },
  "language_info": {
   "codemirror_mode": {
    "name": "ipython",
    "version": 2
   },
   "file_extension": ".py",
   "mimetype": "text/x-python",
   "name": "python",
   "nbconvert_exporter": "python",
   "pygments_lexer": "ipython2",
   "version": "2.7.12"
  }
 },
 "nbformat": 4,
 "nbformat_minor": 0
}
